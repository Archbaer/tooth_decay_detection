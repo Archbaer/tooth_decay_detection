{
 "cells": [
  {
   "cell_type": "code",
   "execution_count": null,
   "id": "650c0d52",
   "metadata": {},
   "outputs": [],
   "source": [
    "train_images = 'dataset/train/images'\n",
    "train_annotations = 'dataset/train/coco/train.json'\n",
    "val_images = 'dataset/valid/images'\n",
    "val_annotations = 'dataset/valid/coco/valid.json'\n",
    "\n"
   ]
  },
  {
   "cell_type": "code",
   "execution_count": null,
   "id": "3b0158a7",
   "metadata": {},
   "outputs": [],
   "source": []
  }
 ],
 "metadata": {
  "kernelspec": {
   "display_name": "nn",
   "language": "python",
   "name": "python3"
  },
  "language_info": {
   "codemirror_mode": {
    "name": "ipython",
    "version": 3
   },
   "file_extension": ".py",
   "mimetype": "text/x-python",
   "name": "python",
   "nbconvert_exporter": "python",
   "pygments_lexer": "ipython3",
   "version": "3.11.13"
  }
 },
 "nbformat": 4,
 "nbformat_minor": 5
}
